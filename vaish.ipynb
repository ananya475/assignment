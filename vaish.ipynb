# ============================================================
# THEORY QUESTIONS (With Examples)
# ============================================================

"""
1. What is the difference between a function and a method in Python?
   - Function: Defined independently using `def`.
   - Method: A function associated with an object (class instance).
   Example:
       def add(a, b): return a+b   # Function
       "hello".upper()             # Method

2. Explain the concept of function arguments and parameters in Python.
   - Parameters: Variables inside function definition.
   - Arguments: Actual values passed while calling.
   Example:
       def greet(name):   # 'name' is parameter
           print("Hello", name)
       greet("Alice")     # "Alice" is argument

3. What are the different ways to define and call a function in Python?
   - Standard `def`, Lambda, Built-in functions.
   Example:
       def add(a,b): return a+b
       sum = lambda a,b: a+b

4. Purpose of `return` statement in Python?
   - Used to send result back to caller.
   Example:
       def square(x): return x*x

5. What are iterators in Python and how do they differ from iterables?
   - Iterable: Any object you can loop over (list, tuple).
   - Iterator: Object with `__iter__()` & `__next__()`.
   Example:
       nums = [1,2,3]
       it = iter(nums)
       print(next(it))

6. Explain the concept of generators in Python.
   - Functions using `yield`, return one value at a time (lazy evaluation).
   Example:
       def gen():
           for i in range(3): yield i

7. Advantages of generators:
   - Save memory, faster for large data, lazy evaluation.

8. What is a lambda function in Python?
   - Anonymous one-liner function.
   Example:  square = lambda x: x*x

9. Purpose of `map()` in Python?
   - Applies a function to each element of iterable.
   Example: list(map(lambda x: x*2, [1,2,3]))

10. Difference between map(), reduce(), and filter():
   - map(): applies function → returns list of results
   - filter(): filters values → returns subset
   - reduce(): applies rolling computation → returns single value

11. Reduce function example:
   List: [47,11,42,13]
   reduce(lambda x,y: x+y) → (((47+11)+42)+13) = 113
"""

# ============================================================
# PRACTICAL QUESTIONS WITH INPUT()
# ============================================================

# 1. Function to return sum of even numbers in list
def sum_even():
    numbers = list(map(int, input("Enter numbers separated by space: ").split()))
    result = sum(num for num in numbers if num % 2 == 0)
    print("Sum of even numbers:", result)

# 2. Function to reverse a string
def reverse_string():
    s = input("Enter a string: ")
    print("Reversed string:", s[::-1])

# 3. Function to return squares of list elements
def squares_list():
    lst = list(map(int, input("Enter numbers separated by space: ").split()))
    result = [x**2 for x in lst]
    print("Squares:", result)

# 4. Prime check from 1 to 200
def check_prime():
    n = int(input("Enter a number between 1 and 200: "))
    if n < 2:
        print(f"{n} is NOT prime.")
        return
    for i in range(2, int(n**0.5)+1):
        if n % i == 0:
            print(f"{n} is NOT prime.")
            return
    print(f"{n} is a PRIME number.")

# 5. Fibonacci Iterator Class
class Fibonacci:
    def __init__(self, limit):
        self.a, self.b = 0, 1
        self.limit = limit
        self.count = 0
    def __iter__(self):
        return self
    def __next__(self):
        if self.count >= self.limit:
            raise StopIteration
        self.count += 1
        self.a, self.b = self.b, self.a+self.b
        return self.a

def fibonacci_input():
    n = int(input("Enter number of Fibonacci terms: "))
    fib = Fibonacci(n)
    print("Fibonacci sequence:", list(fib))

# 6. Generator for powers of 2
def powers_of_two_input():
    n = int(input("Enter exponent limit: "))
    def powers_of_two(n):
        for i in range(n+1):
            yield 2**i
    print("Powers of 2:", list(powers_of_two(n)))

# 7. Generator that reads file line by line
def read_file_input():
    filename = input("Enter file name: ")
    def read_file(filename):
        with open(filename, 'r') as f:
            for line in f:
                yield line.strip()
    print("File contents:")
    for line in read_file(filename):
        print(line)

# 8. Sort list of tuples by 2nd element
def sort_tuples_input():
    n = int(input("Enter number of tuples: "))
    tuples = []
    for i in range(n):
        a, b = map(int, input(f"Enter tuple {i+1} (two integers): ").split())
        tuples.append((a, b))
    sorted_tuples = sorted(tuples, key=lambda x: x[1])
    print("Sorted tuples:", sorted_tuples)

# 9. Convert Celsius to Fahrenheit using map
def c_to_f_input():
    temps = list(map(float, input("Enter Celsius temperatures separated by space: ").split()))
    fahrenheit = list(map(lambda c: (c*9/5)+32, temps))
    print("Fahrenheit values:", fahrenheit)

# 10. Remove vowels using filter
def remove_vowels_input():
    s = input("Enter a string: ")
    result = ''.join(filter(lambda x: x.lower() not in 'aeiou', s))
    print("String without vowels:", result)

# 11. Accounting routine with lambda & map
def accounting_routine_input():
    n = int(input("Enter number of orders: "))
    orders = []
    for i in range(n):
        order_no = int(input("Enter order number: "))
        title = input("Enter book title: ")
        qty = int(input("Enter quantity: "))
        price = float(input("Enter price per item: "))
        orders.append([order_no, title, qty, price])
    result = list(map(lambda x: (x[0], x[2]*x[3] if x[2]*x[3] >=100 else x[2]*x[3]+10), orders))
    print("Processed Orders:", result)


# ============================================================
# MENU FOR USER (so all functions can be tested interactively)
# ============================================================
if __name__ == "__main__":
    while True:
        print("\nChoose a question to run:")
        print("1. Sum of even numbers")
        print("2. Reverse a string")
        print("3. Squares of list elements")
        print("4. Prime check (1-200)")
        print("5. Fibonacci sequence")
        print("6. Powers of 2 generator")
        print("7. Read file line by line")
        print("8. Sort tuples by 2nd element")
        print("9. Celsius to Fahrenheit")
        print("10. Remove vowels")
        print("11. Accounting routine")
        print("0. Exit")

        choice = input("Enter your choice: ")
        if choice == "1":
            sum_even()
        elif choice == "2":
            reverse_string()
        elif choice == "3":
            squares_list()
        elif choice == "4":
            check_prime()
        elif choice == "5":
            fibonacci_input()
        elif choice == "6":
            powers_of_two_input()
        elif choice == "7":
            read_file_input()
        elif choice == "8":
            sort_tuples_input()
        elif choice == "9":
            c_to_f_input()
        elif choice == "10":
            remove_vowels_input()
        elif choice == "11":
            accounting_routine_input()
        elif choice == "0":
            print("Exiting program. Goodbye!")
            break
        else:
            print("Invalid choice, try again!")
